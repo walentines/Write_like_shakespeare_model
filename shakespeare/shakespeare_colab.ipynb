{
 "cells": [
  {
   "cell_type": "code",
   "execution_count": null,
   "metadata": {},
   "outputs": [],
   "source": [
    "import numpy as np\n",
    "\n",
    "data = open('data/shakespeare.txt', 'r').read()\n",
    "data = data.lower()\n",
    "chars = list(set(data))\n",
    "data_size, vocab_size = len(data), len(chars)\n",
    "chars = sorted(chars)\n",
    "\n",
    "char_to_ix = {ch: i for i, ch in enumerate(chars)}\n",
    "ix_to_char = {i: ch for i, ch in enumerate(chars)}"
   ]
  },
  {
   "cell_type": "code",
   "execution_count": null,
   "metadata": {},
   "outputs": [],
   "source": [
    "def build_data(data, T_x):\n",
    "    X = []\n",
    "    Y = []\n",
    "    \n",
    "    for i in range(T_x, len(data)):\n",
    "        X.append(data[i - T_x:i])\n",
    "        Y.append(data[i])\n",
    "        \n",
    "    return X, Y\n",
    "\n",
    "T_x = 40\n",
    "X, Y = build_data(data, T_x)"
   ]
  },
  {
   "cell_type": "code",
   "execution_count": null,
   "metadata": {},
   "outputs": [],
   "source": [
    "def vectorization(X, Y, char_to_ix, vocab_size, T_x):    \n",
    "    x = np.zeros((len(X), T_x, vocab_size))\n",
    "    y = np.zeros((len(Y), 1, vocab_size))\n",
    "    \n",
    "    for i in range(len(X)):\n",
    "        for j in range(len(X[i])):\n",
    "            character = X[i][j]\n",
    "            ix_character = char_to_ix[character]\n",
    "            x[i, j, ix_character] = 1\n",
    "        y[i, 0, ix_character] = 1\n",
    "    \n",
    "    return x, y\n",
    "\n",
    "def vectorize(string, char_to_ix):\n",
    "    vocab_size = len(char_to_ix)\n",
    "    T_x = len(string)\n",
    "    x = np.zeros((vocab_size, 1, T_x))\n",
    "    for i in range(T_x):\n",
    "        idx = char_to_ix[string[i]]\n",
    "        x[idx, :, i] = 1\n",
    "    \n",
    "    return x\n",
    "\n",
    "X_train, y_train = vectorization(X, Y, char_to_ix, vocab_size, T_x)"
   ]
  },
  {
   "cell_type": "code",
   "execution_count": null,
   "metadata": {},
   "outputs": [],
   "source": [
    "from keras.models import Sequential\n",
    "from keras.layers import Dense, LSTM, Dropout\n",
    "from keras.losses import CategoricalCrossentropy\n",
    "from keras.optimizers import Adam\n",
    "\n",
    "classifier = Sequential()\n",
    "classifier.add(LSTM(units = 50, return_sequences = True, input_shape = (X_train.shape[1], X_train.shape[2])))\n",
    "classifier.add(Dropout(0.2))\n",
    "classifier.add(LSTM(units = 50, return_sequences = False))\n",
    "classifier.add(Dropout(0.2))\n",
    "classifier.add(Dense(units = X_train.shape[2], activation = 'softmax'))\n",
    "\n",
    "classifier.compile(optimizer = Adam(learning_rate = 0.005), loss = CategoricalCrossentropy())\n",
    "\n",
    "BATCH_SIZE = 32\n",
    "\n",
    "y_train = np.squeeze(y_train)\n",
    "\n",
    "classifier.fit(X_train, y_train, epochs = 50, batch_size = BATCH_SIZE)"
   ]
  }
 ],
 "metadata": {
  "kernelspec": {
   "display_name": "Python 3",
   "language": "python",
   "name": "python3"
  },
  "language_info": {
   "codemirror_mode": {
    "name": "ipython",
    "version": 3
   },
   "file_extension": ".py",
   "mimetype": "text/x-python",
   "name": "python",
   "nbconvert_exporter": "python",
   "pygments_lexer": "ipython3",
   "version": "3.7.6"
  }
 },
 "nbformat": 4,
 "nbformat_minor": 4
}
